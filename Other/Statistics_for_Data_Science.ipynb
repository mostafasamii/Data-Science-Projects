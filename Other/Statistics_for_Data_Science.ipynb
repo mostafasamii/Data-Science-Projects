{
 "cells": [
  {
   "cell_type": "code",
   "execution_count": null,
   "id": "9cd898b5",
   "metadata": {},
   "outputs": [],
   "source": [
    "import numpy as np\n",
    "import pandas as pd\n",
    "import math\n",
    "from typing import List\n",
    "from collections import Counter\n",
    "from scratch.linear_algebra import sum_of_squares, dot"
   ]
  },
  {
   "cell_type": "markdown",
   "id": "cc1cb317",
   "metadata": {},
   "source": [
    "# Central Tendencies"
   ]
  },
  {
   "cell_type": "markdown",
   "id": "7cd3da52",
   "metadata": {},
   "source": [
    "### 1- Mean"
   ]
  },
  {
   "cell_type": "code",
   "execution_count": null,
   "id": "48b6b24d",
   "metadata": {},
   "outputs": [],
   "source": [
    "def _mean_value(xs:List[float])->float:\n",
    "    return np.mean(xs)"
   ]
  },
  {
   "cell_type": "markdown",
   "id": "deb4947f",
   "metadata": {},
   "source": [
    "### 2- Median"
   ]
  },
  {
   "cell_type": "code",
   "execution_count": null,
   "id": "dde4721d",
   "metadata": {},
   "outputs": [],
   "source": [
    "def _even_median(xs:List[float])->float:\n",
    "    \"\"\"if len(xs) is odd, the median is the middle element\"\"\"\n",
    "    sorted_xs=sorted(xs)\n",
    "    midpoint=len(xs)//2\n",
    "    return (sorted_xs[midpoint-1] + sorted_xs[midpoint])/2"
   ]
  },
  {
   "cell_type": "code",
   "execution_count": null,
   "id": "c1e74a69",
   "metadata": {},
   "outputs": [],
   "source": [
    "def _odd_median(xs: List[float])->float:\n",
    "    \"\"\"if len(xs) us even, it's the average of the middle two elements\"\"\"\n",
    "    return sorted(xs)[len(sorted_xs//2)]"
   ]
  },
  {
   "cell_type": "code",
   "execution_count": null,
   "id": "55a731b9",
   "metadata": {},
   "outputs": [],
   "source": [
    "def median(xs:List[float])->float:\n",
    "    \"\"\"finds the middle most value of a list\"\"\"\n",
    "    return _even_median(xs) if len(xs)%2==0 else _odd_median(xs)"
   ]
  },
  {
   "cell_type": "markdown",
   "id": "d74b1d28",
   "metadata": {},
   "source": [
    "Note: The naive way of finding the median costs O(NlogN) time complexity because we sort the list, for more efficient way we can use the Quickselection Algorithm for linear time complexity of O(N)"
   ]
  },
  {
   "cell_type": "markdown",
   "id": "cb4abb15",
   "metadata": {},
   "source": [
    "### 3- Quantile"
   ]
  },
  {
   "cell_type": "code",
   "execution_count": null,
   "id": "86afbb7f",
   "metadata": {},
   "outputs": [],
   "source": [
    "def quantile(xs:List[float], p:float)->float:\n",
    "    \"\"\"returns the pth-percentile value in a list\"\"\"\n",
    "    p_index=int(p*len(xs))\n",
    "    return sorted(xs)[p_index]"
   ]
  },
  {
   "cell_type": "markdown",
   "id": "4ed29ef4",
   "metadata": {},
   "source": [
    "### 4- Mode"
   ]
  },
  {
   "cell_type": "code",
   "execution_count": null,
   "id": "7cf00f7a",
   "metadata": {},
   "outputs": [],
   "source": [
    "def mode(xs:List[float])->float:\n",
    "    \"\"\"Return a list, since there migt be more than one mode\"\"\"\n",
    "    counts=Counter(xs)\n",
    "    max_count=max(counts.values())\n",
    "    return [x_i for x_i, count in counts.items() if count==max_count]"
   ]
  },
  {
   "cell_type": "markdown",
   "id": "82b5c1a8",
   "metadata": {},
   "source": [
    "# Dispersion"
   ]
  },
  {
   "cell_type": "markdown",
   "id": "c1d8fc7e",
   "metadata": {},
   "source": [
    "### 1- Range"
   ]
  },
  {
   "cell_type": "code",
   "execution_count": null,
   "id": "35f968b0",
   "metadata": {},
   "outputs": [],
   "source": [
    "def data_range(xs:List[float])->float:\n",
    "    \"\"\"The simplest way to know the spreading of the data\"\"\"\n",
    "    return max(xs)-min(xs)"
   ]
  },
  {
   "cell_type": "markdown",
   "id": "5b452fa8",
   "metadata": {},
   "source": [
    "### 2- Variance"
   ]
  },
  {
   "cell_type": "code",
   "execution_count": null,
   "id": "bde2f765",
   "metadata": {},
   "outputs": [],
   "source": [
    "def de_mean(xs:List[float])->List[float]:\n",
    "    \"\"\"Transalte xs by subtracting its mean\"\"\"\n",
    "    x_bar=np.mean(xs)\n",
    "    return [x-x_bar for x in xs]"
   ]
  },
  {
   "cell_type": "code",
   "execution_count": null,
   "id": "a5c90dbc",
   "metadata": {},
   "outputs": [],
   "source": [
    "def variance(xs:List[float])->float:\n",
    "    \"\"\"almost the average squared deviation from the mean\"\"\"\n",
    "    assert len(xs)>=2, \"\"\"variance requires at least two elements\"\"\"\n",
    "    n=len(xs)\n",
    "    deviations=de_mean(xs)\n",
    "    return sum_of_squares(deviations)/(n-1)"
   ]
  },
  {
   "cell_type": "markdown",
   "id": "962f0794",
   "metadata": {},
   "source": [
    "### 3- Standard Deviation"
   ]
  },
  {
   "cell_type": "code",
   "execution_count": null,
   "id": "401670b9",
   "metadata": {},
   "outputs": [],
   "source": [
    "def standard_deviation(xs:List[float])->float:\n",
    "    \"\"\"The standard deviation is the square root of the vairance\"\"\"\n",
    "    return math.sqrt(variance(xs))"
   ]
  },
  {
   "cell_type": "code",
   "execution_count": null,
   "id": "d95fbabf",
   "metadata": {},
   "outputs": [],
   "source": [
    "'''\n",
    "A more robust way to know the spreading of the data by avoiding outliers, which is a problem with\n",
    " Standard deviation and data range techniques.\n",
    "'''\n",
    "def interquartile_range(xs:List[float])->float:\n",
    "    \"\"\"Returns the difference between the 75the percentile and 25th percentile\"\"\"\n",
    "    return quantile(xs, 0.75)-quantile(xs,0.25)"
   ]
  },
  {
   "cell_type": "markdown",
   "id": "ab7ab5ce",
   "metadata": {},
   "source": [
    "# Correlation"
   ]
  },
  {
   "cell_type": "markdown",
   "id": "8677dcd1",
   "metadata": {},
   "source": [
    "### 1- Covariance"
   ]
  },
  {
   "cell_type": "code",
   "execution_count": null,
   "id": "731b4935",
   "metadata": {},
   "outputs": [],
   "source": [
    "def covariance(xs:List[float], ys:List[float])->float:\n",
    "    assert len(xs) == len(ys)\n",
    "    return dot(de_mean(xs), de_mean(ys))/(len(xs)-1)"
   ]
  },
  {
   "cell_type": "markdown",
   "id": "c19841d3",
   "metadata": {},
   "source": [
    "### 2- Correlation"
   ]
  },
  {
   "cell_type": "code",
   "execution_count": null,
   "id": "56b7bec4",
   "metadata": {},
   "outputs": [],
   "source": [
    "def correlation(xs:List[float]. ys:List[float])->float:\n",
    "    \"\"\"measures how much xs and ys vary in tandem from their mean\"\"\"\n",
    "    stddev_x = standard_deviation(xs)\n",
    "    stddev_y = standard_deviation(ys)\n",
    "    if stddev_x > 0 and stddev_y > 0:\n",
    "        return covariance(xs, ys) /stddev_x/ stddev_y\n",
    "    else:\n",
    "        return 0 #if no variation then the correlation is zero"
   ]
  }
 ],
 "metadata": {
  "kernelspec": {
   "display_name": "Python 3",
   "language": "python",
   "name": "python3"
  },
  "language_info": {
   "codemirror_mode": {
    "name": "ipython",
    "version": 3
   },
   "file_extension": ".py",
   "mimetype": "text/x-python",
   "name": "python",
   "nbconvert_exporter": "python",
   "pygments_lexer": "ipython3",
   "version": "3.8.8"
  }
 },
 "nbformat": 4,
 "nbformat_minor": 5
}
